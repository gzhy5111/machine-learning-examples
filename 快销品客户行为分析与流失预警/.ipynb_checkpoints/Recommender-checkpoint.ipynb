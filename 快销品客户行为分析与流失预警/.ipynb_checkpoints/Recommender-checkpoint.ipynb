{
 "cells": [
  {
   "cell_type": "code",
   "execution_count": 1,
   "metadata": {},
   "outputs": [],
   "source": [
    "import numpy as np\n",
    "from scipy.stats import binned_statistic\n",
    "import pandas as pd\n",
    "import pymysql\n",
    "import itertools"
   ]
  },
  {
   "cell_type": "code",
   "execution_count": 2,
   "metadata": {},
   "outputs": [],
   "source": [
    "pd.set_option('display.max_columns', 500)\n",
    "# pd.set_option('display.max_rows', 100)"
   ]
  },
  {
   "cell_type": "markdown",
   "metadata": {},
   "source": [
    "# 核心思路：用户特征->分类器->风险预警"
   ]
  },
  {
   "cell_type": "markdown",
   "metadata": {},
   "source": [
    "# 一、数据预处理"
   ]
  },
  {
   "cell_type": "code",
   "execution_count": 3,
   "metadata": {},
   "outputs": [],
   "source": [
    "from sklearn.model_selection import train_test_split\n",
    "from sklearn.preprocessing import StandardScaler\n",
    "from sklearn.ensemble import RandomForestClassifier\n",
    "from sklearn.metrics import confusion_matrix\n",
    "# from sklearn.externals import joblib\n",
    "# 不再用 from sklearn.externals import joblib 改用 import joblib\n",
    "import joblib\n",
    "from sklearn.metrics import accuracy_score\n",
    "from sklearn.metrics import recall_score\n",
    "import matplotlib.pyplot as plt\n",
    "from sklearn.utils import resample\n",
    "import pandas as pd\n",
    "import numpy as np\n"
   ]
  },
  {
   "cell_type": "code",
   "execution_count": 4,
   "metadata": {},
   "outputs": [],
   "source": [
    "# pandas 内置的文件读取函数\n",
    "df = pd.read_csv('uwide.csv')"
   ]
  },
  {
   "cell_type": "code",
   "execution_count": 5,
   "metadata": {},
   "outputs": [
    {
     "data": {
      "text/html": [
       "<div>\n",
       "<style scoped>\n",
       "    .dataframe tbody tr th:only-of-type {\n",
       "        vertical-align: middle;\n",
       "    }\n",
       "\n",
       "    .dataframe tbody tr th {\n",
       "        vertical-align: top;\n",
       "    }\n",
       "\n",
       "    .dataframe thead th {\n",
       "        text-align: right;\n",
       "    }\n",
       "</style>\n",
       "<table border=\"1\" class=\"dataframe\">\n",
       "  <thead>\n",
       "    <tr style=\"text-align: right;\">\n",
       "      <th></th>\n",
       "      <th>UserId</th>\n",
       "      <th>ActivityCount</th>\n",
       "      <th>ActivityKeep</th>\n",
       "      <th>ActivityUsed</th>\n",
       "      <th>IntegralCurrentPoints</th>\n",
       "      <th>IntegralUsed</th>\n",
       "      <th>IngegralTotal</th>\n",
       "      <th>IntegralFrequency</th>\n",
       "      <th>IntegralAvgPointsDay</th>\n",
       "      <th>IntegralScanCount</th>\n",
       "      <th>IntegralScanTotal</th>\n",
       "      <th>IntegralScanFrequency</th>\n",
       "      <th>IntegralCheckinCount</th>\n",
       "      <th>IntegralCheckinFrequency</th>\n",
       "      <th>LoyaltyIsAutoLost</th>\n",
       "      <th>OrderCount</th>\n",
       "      <th>OrderFrequency</th>\n",
       "      <th>OrderItemCount</th>\n",
       "      <th>OrderAvgPrice</th>\n",
       "      <th>OrderProvinceCity</th>\n",
       "      <th>OrderAvgPoint</th>\n",
       "      <th>BabyCount</th>\n",
       "      <th>User_iCreator</th>\n",
       "      <th>ClientCode</th>\n",
       "      <th>MemberState</th>\n",
       "    </tr>\n",
       "  </thead>\n",
       "  <tbody>\n",
       "    <tr>\n",
       "      <th>0</th>\n",
       "      <td>1002</td>\n",
       "      <td>0</td>\n",
       "      <td>NaN</td>\n",
       "      <td>NaN</td>\n",
       "      <td>NaN</td>\n",
       "      <td>NaN</td>\n",
       "      <td>3498</td>\n",
       "      <td>0.000</td>\n",
       "      <td>10.288235</td>\n",
       "      <td>24</td>\n",
       "      <td>3498</td>\n",
       "      <td>0.000</td>\n",
       "      <td>0</td>\n",
       "      <td>NaN</td>\n",
       "      <td>0</td>\n",
       "      <td>1</td>\n",
       "      <td>0.0</td>\n",
       "      <td>2</td>\n",
       "      <td>0</td>\n",
       "      <td>NaN</td>\n",
       "      <td>1962</td>\n",
       "      <td>1.0</td>\n",
       "      <td>NaN</td>\n",
       "      <td>20374.0</td>\n",
       "      <td>4</td>\n",
       "    </tr>\n",
       "    <tr>\n",
       "      <th>1</th>\n",
       "      <td>100220</td>\n",
       "      <td>0</td>\n",
       "      <td>NaN</td>\n",
       "      <td>NaN</td>\n",
       "      <td>NaN</td>\n",
       "      <td>NaN</td>\n",
       "      <td>3544</td>\n",
       "      <td>0.000</td>\n",
       "      <td>3.522863</td>\n",
       "      <td>38</td>\n",
       "      <td>3534</td>\n",
       "      <td>0.000</td>\n",
       "      <td>1</td>\n",
       "      <td>0.0</td>\n",
       "      <td>1</td>\n",
       "      <td>1</td>\n",
       "      <td>0.0</td>\n",
       "      <td>1</td>\n",
       "      <td>0</td>\n",
       "      <td>NaN</td>\n",
       "      <td>3336</td>\n",
       "      <td>NaN</td>\n",
       "      <td>4.0</td>\n",
       "      <td>25839.0</td>\n",
       "      <td>4</td>\n",
       "    </tr>\n",
       "    <tr>\n",
       "      <th>2</th>\n",
       "      <td>100237</td>\n",
       "      <td>0</td>\n",
       "      <td>NaN</td>\n",
       "      <td>NaN</td>\n",
       "      <td>NaN</td>\n",
       "      <td>NaN</td>\n",
       "      <td>9254</td>\n",
       "      <td>0.436</td>\n",
       "      <td>10.158068</td>\n",
       "      <td>78</td>\n",
       "      <td>9234</td>\n",
       "      <td>4357.542</td>\n",
       "      <td>2</td>\n",
       "      <td>89.5</td>\n",
       "      <td>1</td>\n",
       "      <td>2</td>\n",
       "      <td>24.0</td>\n",
       "      <td>2</td>\n",
       "      <td>0</td>\n",
       "      <td>NaN</td>\n",
       "      <td>3276</td>\n",
       "      <td>1.0</td>\n",
       "      <td>7815.0</td>\n",
       "      <td>25839.0</td>\n",
       "      <td>4</td>\n",
       "    </tr>\n",
       "    <tr>\n",
       "      <th>3</th>\n",
       "      <td>100352</td>\n",
       "      <td>0</td>\n",
       "      <td>NaN</td>\n",
       "      <td>NaN</td>\n",
       "      <td>NaN</td>\n",
       "      <td>NaN</td>\n",
       "      <td>2816</td>\n",
       "      <td>11.000</td>\n",
       "      <td>8.162319</td>\n",
       "      <td>11</td>\n",
       "      <td>2816</td>\n",
       "      <td>110000.000</td>\n",
       "      <td>0</td>\n",
       "      <td>NaN</td>\n",
       "      <td>0</td>\n",
       "      <td>1</td>\n",
       "      <td>0.0</td>\n",
       "      <td>1</td>\n",
       "      <td>0</td>\n",
       "      <td>NaN</td>\n",
       "      <td>2976</td>\n",
       "      <td>1.0</td>\n",
       "      <td>4139.0</td>\n",
       "      <td>16745.0</td>\n",
       "      <td>4</td>\n",
       "    </tr>\n",
       "    <tr>\n",
       "      <th>4</th>\n",
       "      <td>1004</td>\n",
       "      <td>0</td>\n",
       "      <td>NaN</td>\n",
       "      <td>NaN</td>\n",
       "      <td>NaN</td>\n",
       "      <td>NaN</td>\n",
       "      <td>3554</td>\n",
       "      <td>26.000</td>\n",
       "      <td>9.872222</td>\n",
       "      <td>26</td>\n",
       "      <td>3554</td>\n",
       "      <td>260000.000</td>\n",
       "      <td>0</td>\n",
       "      <td>NaN</td>\n",
       "      <td>0</td>\n",
       "      <td>1</td>\n",
       "      <td>0.0</td>\n",
       "      <td>2</td>\n",
       "      <td>0</td>\n",
       "      <td>NaN</td>\n",
       "      <td>1944</td>\n",
       "      <td>1.0</td>\n",
       "      <td>13118.0</td>\n",
       "      <td>20374.0</td>\n",
       "      <td>4</td>\n",
       "    </tr>\n",
       "  </tbody>\n",
       "</table>\n",
       "</div>"
      ],
      "text/plain": [
       "   UserId  ActivityCount  ActivityKeep  ActivityUsed  IntegralCurrentPoints  \\\n",
       "0    1002              0           NaN           NaN                    NaN   \n",
       "1  100220              0           NaN           NaN                    NaN   \n",
       "2  100237              0           NaN           NaN                    NaN   \n",
       "3  100352              0           NaN           NaN                    NaN   \n",
       "4    1004              0           NaN           NaN                    NaN   \n",
       "\n",
       "   IntegralUsed  IngegralTotal  IntegralFrequency  IntegralAvgPointsDay  \\\n",
       "0           NaN           3498              0.000             10.288235   \n",
       "1           NaN           3544              0.000              3.522863   \n",
       "2           NaN           9254              0.436             10.158068   \n",
       "3           NaN           2816             11.000              8.162319   \n",
       "4           NaN           3554             26.000              9.872222   \n",
       "\n",
       "   IntegralScanCount  IntegralScanTotal  IntegralScanFrequency  \\\n",
       "0                 24               3498                  0.000   \n",
       "1                 38               3534                  0.000   \n",
       "2                 78               9234               4357.542   \n",
       "3                 11               2816             110000.000   \n",
       "4                 26               3554             260000.000   \n",
       "\n",
       "   IntegralCheckinCount  IntegralCheckinFrequency  LoyaltyIsAutoLost  \\\n",
       "0                     0                       NaN                  0   \n",
       "1                     1                       0.0                  1   \n",
       "2                     2                      89.5                  1   \n",
       "3                     0                       NaN                  0   \n",
       "4                     0                       NaN                  0   \n",
       "\n",
       "   OrderCount  OrderFrequency  OrderItemCount  OrderAvgPrice  \\\n",
       "0           1             0.0               2              0   \n",
       "1           1             0.0               1              0   \n",
       "2           2            24.0               2              0   \n",
       "3           1             0.0               1              0   \n",
       "4           1             0.0               2              0   \n",
       "\n",
       "  OrderProvinceCity  OrderAvgPoint  BabyCount  User_iCreator  ClientCode  \\\n",
       "0               NaN           1962        1.0            NaN     20374.0   \n",
       "1               NaN           3336        NaN            4.0     25839.0   \n",
       "2               NaN           3276        1.0         7815.0     25839.0   \n",
       "3               NaN           2976        1.0         4139.0     16745.0   \n",
       "4               NaN           1944        1.0        13118.0     20374.0   \n",
       "\n",
       "   MemberState  \n",
       "0            4  \n",
       "1            4  \n",
       "2            4  \n",
       "3            4  \n",
       "4            4  "
      ]
     },
     "execution_count": 5,
     "metadata": {},
     "output_type": "execute_result"
    }
   ],
   "source": [
    "# head( )函数的原型中，默认的参数size大小是 5，所以会返回 5 个数据。\n",
    "df.head()"
   ]
  },
  {
   "cell_type": "markdown",
   "metadata": {},
   "source": [
    "## 1. 将上面表格中的空值NaN转换为数值“0”以便于后面进行数据分析。"
   ]
  },
  {
   "cell_type": "code",
   "execution_count": 6,
   "metadata": {},
   "outputs": [],
   "source": [
    "df.ActivityKeep = df.ActivityKeep.fillna(0)\n",
    "df.IntegralCurrentPoints = df.IntegralCurrentPoints.fillna(0)\n",
    "df.IntegralUsed = df.IntegralUsed.fillna(0)\n",
    "df.IntegralCheckinFrequency = df.IntegralCheckinFrequency.fillna(0)\n",
    "df.BabyCount = df.BabyCount.fillna(0)\n",
    "df.User_iCreator = df.User_iCreator.fillna(0)\n",
    "df.ActivityUsed = df.ActivityUsed.fillna(0)\n",
    "df.OrderFrequency = df.OrderFrequency.fillna(0)\n",
    "df.OrderFrequency = df.OrderFrequency.fillna(0)\n",
    "df.ClientCode = df.ClientCode.fillna(0)"
   ]
  },
  {
   "cell_type": "code",
   "execution_count": 7,
   "metadata": {
    "scrolled": false
   },
   "outputs": [
    {
     "name": "stdout",
     "output_type": "stream",
     "text": [
      "<class 'pandas.core.frame.DataFrame'>\n",
      "RangeIndex: 214376 entries, 0 to 214375\n",
      "Data columns (total 25 columns):\n",
      " #   Column                    Non-Null Count   Dtype  \n",
      "---  ------                    --------------   -----  \n",
      " 0   UserId                    214376 non-null  int64  \n",
      " 1   ActivityCount             214376 non-null  int64  \n",
      " 2   ActivityKeep              214376 non-null  float64\n",
      " 3   ActivityUsed              214376 non-null  float64\n",
      " 4   IntegralCurrentPoints     214376 non-null  float64\n",
      " 5   IntegralUsed              214376 non-null  float64\n",
      " 6   IngegralTotal             214376 non-null  int64  \n",
      " 7   IntegralFrequency         214376 non-null  float64\n",
      " 8   IntegralAvgPointsDay      214376 non-null  float64\n",
      " 9   IntegralScanCount         214376 non-null  int64  \n",
      " 10  IntegralScanTotal         214376 non-null  int64  \n",
      " 11  IntegralScanFrequency     214376 non-null  float64\n",
      " 12  IntegralCheckinCount      214376 non-null  int64  \n",
      " 13  IntegralCheckinFrequency  214376 non-null  float64\n",
      " 14  LoyaltyIsAutoLost         214376 non-null  int64  \n",
      " 15  OrderCount                214376 non-null  int64  \n",
      " 16  OrderFrequency            214376 non-null  float64\n",
      " 17  OrderItemCount            214376 non-null  int64  \n",
      " 18  OrderAvgPrice             214376 non-null  int64  \n",
      " 19  OrderProvinceCity         180135 non-null  object \n",
      " 20  OrderAvgPoint             214376 non-null  int64  \n",
      " 21  BabyCount                 214376 non-null  float64\n",
      " 22  User_iCreator             214376 non-null  float64\n",
      " 23  ClientCode                214376 non-null  float64\n",
      " 24  MemberState               214376 non-null  int64  \n",
      "dtypes: float64(12), int64(12), object(1)\n",
      "memory usage: 40.9+ MB\n"
     ]
    }
   ],
   "source": [
    "# info()函数用于打印DataFrame的简要摘要，也就是字段的摘要信息。\n",
    "df.info()"
   ]
  },
  {
   "cell_type": "markdown",
   "metadata": {},
   "source": [
    "经过填0后，打印摘要信息发现，共计约有21万条数据，25列，所有字段不存在空值null。\n",
    "但是，有的字段是int型，有的是float型，有的还是对象型，我们需要对他们进行数字化转换。"
   ]
  },
  {
   "cell_type": "code",
   "execution_count": 8,
   "metadata": {},
   "outputs": [],
   "source": [
    "#Creating the dependent variable class\n",
    "# pd.factorize 可以将标称型数据映射为数值型。 所谓标称型数据就是有取值范围的数据类型，例如学历分为小学 初中 高中 大学 研究生 等。\n",
    "\n",
    "factor = pd.factorize(df['OrderProvinceCity'])# 订单省市是object类型，需要转换为数值型。\n",
    "\n",
    "# pd.factorize 函数的返回值是二元组，第一个元素是映射结果数字的数组，第二个元素用于实现反向映射，将来通过数字可以知道映射的是哪个省份城市的值。\n",
    "\n",
    "df.OrderProvinceCity = factor[0]\n",
    "definitions = factor[1]\n"
   ]
  },
  {
   "cell_type": "code",
   "execution_count": 9,
   "metadata": {},
   "outputs": [
    {
     "data": {
      "text/plain": [
       "Index(['山西-朔州市', '江西省-上饶市', '安徽省-黄山市', '安徽省-六安市', '河南省-漯河市', '河南省-安阳市',\n",
       "       '安徽省-滁州市', '广西壮族自治区-玉林市', '江苏省-盐城市', '山东省-泰安市',\n",
       "       ...\n",
       "       '内蒙古自治区-乌海市', '甘肃省-白银市', '甘肃省-庆阳市', '新疆维吾尔自治区-伊犁州', '新疆维吾尔自治区-阿克苏地区',\n",
       "       '四川省-阿坝州', '黑龙江省-大庆市', '甘肃省-天水市', '江苏省-', '内蒙古自治区-乌兰察布市'],\n",
       "      dtype='object', length=322)"
      ]
     },
     "execution_count": 9,
     "metadata": {},
     "output_type": "execute_result"
    }
   ],
   "source": [
    "definitions"
   ]
  },
  {
   "cell_type": "code",
   "execution_count": 10,
   "metadata": {
    "scrolled": true
   },
   "outputs": [
    {
     "data": {
      "text/plain": [
       "-1      34241\n",
       " 26      6188\n",
       " 108     4987\n",
       " 97      4895\n",
       " 61      3725\n",
       "        ...  \n",
       " 313        1\n",
       " 315        1\n",
       " 316        1\n",
       " 317        1\n",
       " 294        1\n",
       "Name: OrderProvinceCity, Length: 323, dtype: int64"
      ]
     },
     "execution_count": 10,
     "metadata": {},
     "output_type": "execute_result"
    }
   ],
   "source": [
    "# 可以看不同编号（代表省份城市）有多少条订单数据。\n",
    "df.OrderProvinceCity.value_counts()"
   ]
  },
  {
   "cell_type": "markdown",
   "metadata": {},
   "source": [
    "解释上表：-1代表这个订单没有写是哪个城市，是缺省值。"
   ]
  },
  {
   "cell_type": "code",
   "execution_count": 11,
   "metadata": {},
   "outputs": [
    {
     "data": {
      "text/plain": [
       "'山东省-临沂市'"
      ]
     },
     "execution_count": 11,
     "metadata": {},
     "output_type": "execute_result"
    }
   ],
   "source": [
    "# 通过definitions[26] 可以看标号为26的是哪个城市（用到了上面的反向映射）。\n",
    "definitions[26]"
   ]
  },
  {
   "cell_type": "code",
   "execution_count": 12,
   "metadata": {
    "scrolled": false
   },
   "outputs": [
    {
     "data": {
      "text/html": [
       "<div>\n",
       "<style scoped>\n",
       "    .dataframe tbody tr th:only-of-type {\n",
       "        vertical-align: middle;\n",
       "    }\n",
       "\n",
       "    .dataframe tbody tr th {\n",
       "        vertical-align: top;\n",
       "    }\n",
       "\n",
       "    .dataframe thead th {\n",
       "        text-align: right;\n",
       "    }\n",
       "</style>\n",
       "<table border=\"1\" class=\"dataframe\">\n",
       "  <thead>\n",
       "    <tr style=\"text-align: right;\">\n",
       "      <th></th>\n",
       "      <th>UserId</th>\n",
       "      <th>ActivityCount</th>\n",
       "      <th>ActivityKeep</th>\n",
       "      <th>ActivityUsed</th>\n",
       "      <th>IntegralCurrentPoints</th>\n",
       "      <th>IntegralUsed</th>\n",
       "      <th>IngegralTotal</th>\n",
       "      <th>IntegralFrequency</th>\n",
       "      <th>IntegralAvgPointsDay</th>\n",
       "      <th>IntegralScanCount</th>\n",
       "      <th>IntegralScanTotal</th>\n",
       "      <th>IntegralScanFrequency</th>\n",
       "      <th>IntegralCheckinCount</th>\n",
       "      <th>IntegralCheckinFrequency</th>\n",
       "      <th>LoyaltyIsAutoLost</th>\n",
       "      <th>OrderCount</th>\n",
       "      <th>OrderFrequency</th>\n",
       "      <th>OrderItemCount</th>\n",
       "      <th>OrderAvgPrice</th>\n",
       "      <th>OrderProvinceCity</th>\n",
       "      <th>OrderAvgPoint</th>\n",
       "      <th>BabyCount</th>\n",
       "      <th>User_iCreator</th>\n",
       "      <th>ClientCode</th>\n",
       "      <th>MemberState</th>\n",
       "    </tr>\n",
       "  </thead>\n",
       "  <tbody>\n",
       "    <tr>\n",
       "      <th>0</th>\n",
       "      <td>1002</td>\n",
       "      <td>0</td>\n",
       "      <td>0.0</td>\n",
       "      <td>0.0</td>\n",
       "      <td>0.0</td>\n",
       "      <td>0.0</td>\n",
       "      <td>3498</td>\n",
       "      <td>0.000</td>\n",
       "      <td>10.288235</td>\n",
       "      <td>24</td>\n",
       "      <td>3498</td>\n",
       "      <td>0.000</td>\n",
       "      <td>0</td>\n",
       "      <td>0.0</td>\n",
       "      <td>0</td>\n",
       "      <td>1</td>\n",
       "      <td>0.0</td>\n",
       "      <td>2</td>\n",
       "      <td>0</td>\n",
       "      <td>-1</td>\n",
       "      <td>1962</td>\n",
       "      <td>1.0</td>\n",
       "      <td>0.0</td>\n",
       "      <td>20374.0</td>\n",
       "      <td>4</td>\n",
       "    </tr>\n",
       "    <tr>\n",
       "      <th>1</th>\n",
       "      <td>100220</td>\n",
       "      <td>0</td>\n",
       "      <td>0.0</td>\n",
       "      <td>0.0</td>\n",
       "      <td>0.0</td>\n",
       "      <td>0.0</td>\n",
       "      <td>3544</td>\n",
       "      <td>0.000</td>\n",
       "      <td>3.522863</td>\n",
       "      <td>38</td>\n",
       "      <td>3534</td>\n",
       "      <td>0.000</td>\n",
       "      <td>1</td>\n",
       "      <td>0.0</td>\n",
       "      <td>1</td>\n",
       "      <td>1</td>\n",
       "      <td>0.0</td>\n",
       "      <td>1</td>\n",
       "      <td>0</td>\n",
       "      <td>-1</td>\n",
       "      <td>3336</td>\n",
       "      <td>0.0</td>\n",
       "      <td>4.0</td>\n",
       "      <td>25839.0</td>\n",
       "      <td>4</td>\n",
       "    </tr>\n",
       "    <tr>\n",
       "      <th>2</th>\n",
       "      <td>100237</td>\n",
       "      <td>0</td>\n",
       "      <td>0.0</td>\n",
       "      <td>0.0</td>\n",
       "      <td>0.0</td>\n",
       "      <td>0.0</td>\n",
       "      <td>9254</td>\n",
       "      <td>0.436</td>\n",
       "      <td>10.158068</td>\n",
       "      <td>78</td>\n",
       "      <td>9234</td>\n",
       "      <td>4357.542</td>\n",
       "      <td>2</td>\n",
       "      <td>89.5</td>\n",
       "      <td>1</td>\n",
       "      <td>2</td>\n",
       "      <td>24.0</td>\n",
       "      <td>2</td>\n",
       "      <td>0</td>\n",
       "      <td>-1</td>\n",
       "      <td>3276</td>\n",
       "      <td>1.0</td>\n",
       "      <td>7815.0</td>\n",
       "      <td>25839.0</td>\n",
       "      <td>4</td>\n",
       "    </tr>\n",
       "    <tr>\n",
       "      <th>3</th>\n",
       "      <td>100352</td>\n",
       "      <td>0</td>\n",
       "      <td>0.0</td>\n",
       "      <td>0.0</td>\n",
       "      <td>0.0</td>\n",
       "      <td>0.0</td>\n",
       "      <td>2816</td>\n",
       "      <td>11.000</td>\n",
       "      <td>8.162319</td>\n",
       "      <td>11</td>\n",
       "      <td>2816</td>\n",
       "      <td>110000.000</td>\n",
       "      <td>0</td>\n",
       "      <td>0.0</td>\n",
       "      <td>0</td>\n",
       "      <td>1</td>\n",
       "      <td>0.0</td>\n",
       "      <td>1</td>\n",
       "      <td>0</td>\n",
       "      <td>-1</td>\n",
       "      <td>2976</td>\n",
       "      <td>1.0</td>\n",
       "      <td>4139.0</td>\n",
       "      <td>16745.0</td>\n",
       "      <td>4</td>\n",
       "    </tr>\n",
       "    <tr>\n",
       "      <th>4</th>\n",
       "      <td>1004</td>\n",
       "      <td>0</td>\n",
       "      <td>0.0</td>\n",
       "      <td>0.0</td>\n",
       "      <td>0.0</td>\n",
       "      <td>0.0</td>\n",
       "      <td>3554</td>\n",
       "      <td>26.000</td>\n",
       "      <td>9.872222</td>\n",
       "      <td>26</td>\n",
       "      <td>3554</td>\n",
       "      <td>260000.000</td>\n",
       "      <td>0</td>\n",
       "      <td>0.0</td>\n",
       "      <td>0</td>\n",
       "      <td>1</td>\n",
       "      <td>0.0</td>\n",
       "      <td>2</td>\n",
       "      <td>0</td>\n",
       "      <td>-1</td>\n",
       "      <td>1944</td>\n",
       "      <td>1.0</td>\n",
       "      <td>13118.0</td>\n",
       "      <td>20374.0</td>\n",
       "      <td>4</td>\n",
       "    </tr>\n",
       "  </tbody>\n",
       "</table>\n",
       "</div>"
      ],
      "text/plain": [
       "   UserId  ActivityCount  ActivityKeep  ActivityUsed  IntegralCurrentPoints  \\\n",
       "0    1002              0           0.0           0.0                    0.0   \n",
       "1  100220              0           0.0           0.0                    0.0   \n",
       "2  100237              0           0.0           0.0                    0.0   \n",
       "3  100352              0           0.0           0.0                    0.0   \n",
       "4    1004              0           0.0           0.0                    0.0   \n",
       "\n",
       "   IntegralUsed  IngegralTotal  IntegralFrequency  IntegralAvgPointsDay  \\\n",
       "0           0.0           3498              0.000             10.288235   \n",
       "1           0.0           3544              0.000              3.522863   \n",
       "2           0.0           9254              0.436             10.158068   \n",
       "3           0.0           2816             11.000              8.162319   \n",
       "4           0.0           3554             26.000              9.872222   \n",
       "\n",
       "   IntegralScanCount  IntegralScanTotal  IntegralScanFrequency  \\\n",
       "0                 24               3498                  0.000   \n",
       "1                 38               3534                  0.000   \n",
       "2                 78               9234               4357.542   \n",
       "3                 11               2816             110000.000   \n",
       "4                 26               3554             260000.000   \n",
       "\n",
       "   IntegralCheckinCount  IntegralCheckinFrequency  LoyaltyIsAutoLost  \\\n",
       "0                     0                       0.0                  0   \n",
       "1                     1                       0.0                  1   \n",
       "2                     2                      89.5                  1   \n",
       "3                     0                       0.0                  0   \n",
       "4                     0                       0.0                  0   \n",
       "\n",
       "   OrderCount  OrderFrequency  OrderItemCount  OrderAvgPrice  \\\n",
       "0           1             0.0               2              0   \n",
       "1           1             0.0               1              0   \n",
       "2           2            24.0               2              0   \n",
       "3           1             0.0               1              0   \n",
       "4           1             0.0               2              0   \n",
       "\n",
       "   OrderProvinceCity  OrderAvgPoint  BabyCount  User_iCreator  ClientCode  \\\n",
       "0                 -1           1962        1.0            0.0     20374.0   \n",
       "1                 -1           3336        0.0            4.0     25839.0   \n",
       "2                 -1           3276        1.0         7815.0     25839.0   \n",
       "3                 -1           2976        1.0         4139.0     16745.0   \n",
       "4                 -1           1944        1.0        13118.0     20374.0   \n",
       "\n",
       "   MemberState  \n",
       "0            4  \n",
       "1            4  \n",
       "2            4  \n",
       "3            4  \n",
       "4            4  "
      ]
     },
     "execution_count": 12,
     "metadata": {},
     "output_type": "execute_result"
    }
   ],
   "source": [
    "df.head()"
   ]
  },
  {
   "cell_type": "markdown",
   "metadata": {},
   "source": [
    "看上表，以前为空值NaN的数据已经被0所填充。"
   ]
  },
  {
   "cell_type": "code",
   "execution_count": 13,
   "metadata": {
    "scrolled": false
   },
   "outputs": [
    {
     "data": {
      "text/html": [
       "<div>\n",
       "<style scoped>\n",
       "    .dataframe tbody tr th:only-of-type {\n",
       "        vertical-align: middle;\n",
       "    }\n",
       "\n",
       "    .dataframe tbody tr th {\n",
       "        vertical-align: top;\n",
       "    }\n",
       "\n",
       "    .dataframe thead th {\n",
       "        text-align: right;\n",
       "    }\n",
       "</style>\n",
       "<table border=\"1\" class=\"dataframe\">\n",
       "  <thead>\n",
       "    <tr style=\"text-align: right;\">\n",
       "      <th></th>\n",
       "      <th>UserId</th>\n",
       "      <th>ActivityCount</th>\n",
       "      <th>ActivityKeep</th>\n",
       "      <th>ActivityUsed</th>\n",
       "      <th>IntegralCurrentPoints</th>\n",
       "      <th>IntegralUsed</th>\n",
       "      <th>IngegralTotal</th>\n",
       "      <th>IntegralFrequency</th>\n",
       "      <th>IntegralAvgPointsDay</th>\n",
       "      <th>IntegralScanCount</th>\n",
       "      <th>IntegralScanTotal</th>\n",
       "      <th>IntegralScanFrequency</th>\n",
       "      <th>IntegralCheckinCount</th>\n",
       "      <th>IntegralCheckinFrequency</th>\n",
       "      <th>LoyaltyIsAutoLost</th>\n",
       "      <th>OrderCount</th>\n",
       "      <th>OrderFrequency</th>\n",
       "      <th>OrderItemCount</th>\n",
       "      <th>OrderAvgPrice</th>\n",
       "      <th>OrderProvinceCity</th>\n",
       "      <th>OrderAvgPoint</th>\n",
       "      <th>BabyCount</th>\n",
       "      <th>User_iCreator</th>\n",
       "      <th>ClientCode</th>\n",
       "      <th>MemberState</th>\n",
       "    </tr>\n",
       "  </thead>\n",
       "  <tbody>\n",
       "    <tr>\n",
       "      <th>count</th>\n",
       "      <td>214376.000000</td>\n",
       "      <td>214376.000000</td>\n",
       "      <td>214376.000000</td>\n",
       "      <td>214376.000000</td>\n",
       "      <td>214376.000000</td>\n",
       "      <td>214376.000000</td>\n",
       "      <td>214376.000000</td>\n",
       "      <td>214376.000000</td>\n",
       "      <td>214376.000000</td>\n",
       "      <td>214376.000000</td>\n",
       "      <td>214376.000000</td>\n",
       "      <td>2.143760e+05</td>\n",
       "      <td>214376.000000</td>\n",
       "      <td>214376.000000</td>\n",
       "      <td>214376.000000</td>\n",
       "      <td>214376.000000</td>\n",
       "      <td>214376.000000</td>\n",
       "      <td>214376.000000</td>\n",
       "      <td>214376.0</td>\n",
       "      <td>214376.000000</td>\n",
       "      <td>214376.000000</td>\n",
       "      <td>214376.000000</td>\n",
       "      <td>214376.000000</td>\n",
       "      <td>214376.000000</td>\n",
       "      <td>214376.000000</td>\n",
       "    </tr>\n",
       "    <tr>\n",
       "      <th>mean</th>\n",
       "      <td>528721.516966</td>\n",
       "      <td>0.349983</td>\n",
       "      <td>44.977875</td>\n",
       "      <td>0.318128</td>\n",
       "      <td>209.679997</td>\n",
       "      <td>952.459772</td>\n",
       "      <td>1812.658385</td>\n",
       "      <td>0.209363</td>\n",
       "      <td>340.102790</td>\n",
       "      <td>8.201352</td>\n",
       "      <td>1779.491076</td>\n",
       "      <td>2.093630e+03</td>\n",
       "      <td>1.928565</td>\n",
       "      <td>1.685325</td>\n",
       "      <td>0.085443</td>\n",
       "      <td>0.764055</td>\n",
       "      <td>3.008094</td>\n",
       "      <td>0.802837</td>\n",
       "      <td>0.0</td>\n",
       "      <td>68.941341</td>\n",
       "      <td>1048.161497</td>\n",
       "      <td>1.011508</td>\n",
       "      <td>16660.713051</td>\n",
       "      <td>18285.390860</td>\n",
       "      <td>2.862466</td>\n",
       "    </tr>\n",
       "    <tr>\n",
       "      <th>std</th>\n",
       "      <td>207371.101124</td>\n",
       "      <td>0.476965</td>\n",
       "      <td>720.643922</td>\n",
       "      <td>0.536695</td>\n",
       "      <td>713.157895</td>\n",
       "      <td>2353.838970</td>\n",
       "      <td>3057.788821</td>\n",
       "      <td>1.571906</td>\n",
       "      <td>783.339825</td>\n",
       "      <td>14.938350</td>\n",
       "      <td>2995.474803</td>\n",
       "      <td>1.571906e+04</td>\n",
       "      <td>12.705048</td>\n",
       "      <td>9.280033</td>\n",
       "      <td>0.279541</td>\n",
       "      <td>0.820281</td>\n",
       "      <td>16.124144</td>\n",
       "      <td>0.885879</td>\n",
       "      <td>0.0</td>\n",
       "      <td>63.923052</td>\n",
       "      <td>1848.101685</td>\n",
       "      <td>0.234958</td>\n",
       "      <td>9552.674620</td>\n",
       "      <td>7665.623766</td>\n",
       "      <td>0.990499</td>\n",
       "    </tr>\n",
       "    <tr>\n",
       "      <th>min</th>\n",
       "      <td>64.000000</td>\n",
       "      <td>0.000000</td>\n",
       "      <td>0.000000</td>\n",
       "      <td>-1.000000</td>\n",
       "      <td>0.000000</td>\n",
       "      <td>0.000000</td>\n",
       "      <td>0.000000</td>\n",
       "      <td>0.000000</td>\n",
       "      <td>0.000000</td>\n",
       "      <td>1.000000</td>\n",
       "      <td>0.000000</td>\n",
       "      <td>0.000000e+00</td>\n",
       "      <td>0.000000</td>\n",
       "      <td>0.000000</td>\n",
       "      <td>0.000000</td>\n",
       "      <td>0.000000</td>\n",
       "      <td>0.000000</td>\n",
       "      <td>0.000000</td>\n",
       "      <td>0.0</td>\n",
       "      <td>-1.000000</td>\n",
       "      <td>0.000000</td>\n",
       "      <td>0.000000</td>\n",
       "      <td>0.000000</td>\n",
       "      <td>0.000000</td>\n",
       "      <td>2.000000</td>\n",
       "    </tr>\n",
       "    <tr>\n",
       "      <th>25%</th>\n",
       "      <td>364503.000000</td>\n",
       "      <td>0.000000</td>\n",
       "      <td>0.000000</td>\n",
       "      <td>0.000000</td>\n",
       "      <td>0.000000</td>\n",
       "      <td>0.000000</td>\n",
       "      <td>268.000000</td>\n",
       "      <td>0.000000</td>\n",
       "      <td>19.800000</td>\n",
       "      <td>1.000000</td>\n",
       "      <td>258.000000</td>\n",
       "      <td>0.000000e+00</td>\n",
       "      <td>0.000000</td>\n",
       "      <td>0.000000</td>\n",
       "      <td>0.000000</td>\n",
       "      <td>0.000000</td>\n",
       "      <td>0.000000</td>\n",
       "      <td>0.000000</td>\n",
       "      <td>0.0</td>\n",
       "      <td>15.000000</td>\n",
       "      <td>0.000000</td>\n",
       "      <td>1.000000</td>\n",
       "      <td>8549.000000</td>\n",
       "      <td>14094.000000</td>\n",
       "      <td>2.000000</td>\n",
       "    </tr>\n",
       "    <tr>\n",
       "      <th>50%</th>\n",
       "      <td>543378.500000</td>\n",
       "      <td>0.000000</td>\n",
       "      <td>0.000000</td>\n",
       "      <td>0.000000</td>\n",
       "      <td>0.000000</td>\n",
       "      <td>258.000000</td>\n",
       "      <td>298.000000</td>\n",
       "      <td>0.000000</td>\n",
       "      <td>76.973001</td>\n",
       "      <td>1.000000</td>\n",
       "      <td>298.000000</td>\n",
       "      <td>0.000000e+00</td>\n",
       "      <td>0.000000</td>\n",
       "      <td>0.000000</td>\n",
       "      <td>0.000000</td>\n",
       "      <td>1.000000</td>\n",
       "      <td>0.000000</td>\n",
       "      <td>1.000000</td>\n",
       "      <td>0.0</td>\n",
       "      <td>55.000000</td>\n",
       "      <td>255.000000</td>\n",
       "      <td>1.000000</td>\n",
       "      <td>22356.000000</td>\n",
       "      <td>19215.000000</td>\n",
       "      <td>2.000000</td>\n",
       "    </tr>\n",
       "    <tr>\n",
       "      <th>75%</th>\n",
       "      <td>705392.500000</td>\n",
       "      <td>1.000000</td>\n",
       "      <td>0.000000</td>\n",
       "      <td>1.000000</td>\n",
       "      <td>60.000000</td>\n",
       "      <td>298.000000</td>\n",
       "      <td>3151.000000</td>\n",
       "      <td>0.000000</td>\n",
       "      <td>278.000000</td>\n",
       "      <td>12.000000</td>\n",
       "      <td>3099.000000</td>\n",
       "      <td>0.000000e+00</td>\n",
       "      <td>0.000000</td>\n",
       "      <td>0.000000</td>\n",
       "      <td>0.000000</td>\n",
       "      <td>1.000000</td>\n",
       "      <td>0.000000</td>\n",
       "      <td>1.000000</td>\n",
       "      <td>0.0</td>\n",
       "      <td>114.000000</td>\n",
       "      <td>2222.250000</td>\n",
       "      <td>1.000000</td>\n",
       "      <td>23504.000000</td>\n",
       "      <td>25839.000000</td>\n",
       "      <td>4.000000</td>\n",
       "    </tr>\n",
       "    <tr>\n",
       "      <th>max</th>\n",
       "      <td>862606.000000</td>\n",
       "      <td>1.000000</td>\n",
       "      <td>52099.000000</td>\n",
       "      <td>3.000000</td>\n",
       "      <td>38108.000000</td>\n",
       "      <td>218481.000000</td>\n",
       "      <td>218481.000000</td>\n",
       "      <td>105.000000</td>\n",
       "      <td>36413.500000</td>\n",
       "      <td>296.000000</td>\n",
       "      <td>75275.000000</td>\n",
       "      <td>1.050000e+06</td>\n",
       "      <td>574.000000</td>\n",
       "      <td>298.500000</td>\n",
       "      <td>1.000000</td>\n",
       "      <td>24.000000</td>\n",
       "      <td>350.000000</td>\n",
       "      <td>24.000000</td>\n",
       "      <td>0.0</td>\n",
       "      <td>321.000000</td>\n",
       "      <td>309504.000000</td>\n",
       "      <td>3.000000</td>\n",
       "      <td>33715.000000</td>\n",
       "      <td>26225.000000</td>\n",
       "      <td>4.000000</td>\n",
       "    </tr>\n",
       "  </tbody>\n",
       "</table>\n",
       "</div>"
      ],
      "text/plain": [
       "              UserId  ActivityCount   ActivityKeep   ActivityUsed  \\\n",
       "count  214376.000000  214376.000000  214376.000000  214376.000000   \n",
       "mean   528721.516966       0.349983      44.977875       0.318128   \n",
       "std    207371.101124       0.476965     720.643922       0.536695   \n",
       "min        64.000000       0.000000       0.000000      -1.000000   \n",
       "25%    364503.000000       0.000000       0.000000       0.000000   \n",
       "50%    543378.500000       0.000000       0.000000       0.000000   \n",
       "75%    705392.500000       1.000000       0.000000       1.000000   \n",
       "max    862606.000000       1.000000   52099.000000       3.000000   \n",
       "\n",
       "       IntegralCurrentPoints   IntegralUsed  IngegralTotal  IntegralFrequency  \\\n",
       "count          214376.000000  214376.000000  214376.000000      214376.000000   \n",
       "mean              209.679997     952.459772    1812.658385           0.209363   \n",
       "std               713.157895    2353.838970    3057.788821           1.571906   \n",
       "min                 0.000000       0.000000       0.000000           0.000000   \n",
       "25%                 0.000000       0.000000     268.000000           0.000000   \n",
       "50%                 0.000000     258.000000     298.000000           0.000000   \n",
       "75%                60.000000     298.000000    3151.000000           0.000000   \n",
       "max             38108.000000  218481.000000  218481.000000         105.000000   \n",
       "\n",
       "       IntegralAvgPointsDay  IntegralScanCount  IntegralScanTotal  \\\n",
       "count         214376.000000      214376.000000      214376.000000   \n",
       "mean             340.102790           8.201352        1779.491076   \n",
       "std              783.339825          14.938350        2995.474803   \n",
       "min                0.000000           1.000000           0.000000   \n",
       "25%               19.800000           1.000000         258.000000   \n",
       "50%               76.973001           1.000000         298.000000   \n",
       "75%              278.000000          12.000000        3099.000000   \n",
       "max            36413.500000         296.000000       75275.000000   \n",
       "\n",
       "       IntegralScanFrequency  IntegralCheckinCount  IntegralCheckinFrequency  \\\n",
       "count           2.143760e+05         214376.000000             214376.000000   \n",
       "mean            2.093630e+03              1.928565                  1.685325   \n",
       "std             1.571906e+04             12.705048                  9.280033   \n",
       "min             0.000000e+00              0.000000                  0.000000   \n",
       "25%             0.000000e+00              0.000000                  0.000000   \n",
       "50%             0.000000e+00              0.000000                  0.000000   \n",
       "75%             0.000000e+00              0.000000                  0.000000   \n",
       "max             1.050000e+06            574.000000                298.500000   \n",
       "\n",
       "       LoyaltyIsAutoLost     OrderCount  OrderFrequency  OrderItemCount  \\\n",
       "count      214376.000000  214376.000000   214376.000000   214376.000000   \n",
       "mean            0.085443       0.764055        3.008094        0.802837   \n",
       "std             0.279541       0.820281       16.124144        0.885879   \n",
       "min             0.000000       0.000000        0.000000        0.000000   \n",
       "25%             0.000000       0.000000        0.000000        0.000000   \n",
       "50%             0.000000       1.000000        0.000000        1.000000   \n",
       "75%             0.000000       1.000000        0.000000        1.000000   \n",
       "max             1.000000      24.000000      350.000000       24.000000   \n",
       "\n",
       "       OrderAvgPrice  OrderProvinceCity  OrderAvgPoint      BabyCount  \\\n",
       "count       214376.0      214376.000000  214376.000000  214376.000000   \n",
       "mean             0.0          68.941341    1048.161497       1.011508   \n",
       "std              0.0          63.923052    1848.101685       0.234958   \n",
       "min              0.0          -1.000000       0.000000       0.000000   \n",
       "25%              0.0          15.000000       0.000000       1.000000   \n",
       "50%              0.0          55.000000     255.000000       1.000000   \n",
       "75%              0.0         114.000000    2222.250000       1.000000   \n",
       "max              0.0         321.000000  309504.000000       3.000000   \n",
       "\n",
       "       User_iCreator     ClientCode    MemberState  \n",
       "count  214376.000000  214376.000000  214376.000000  \n",
       "mean    16660.713051   18285.390860       2.862466  \n",
       "std      9552.674620    7665.623766       0.990499  \n",
       "min         0.000000       0.000000       2.000000  \n",
       "25%      8549.000000   14094.000000       2.000000  \n",
       "50%     22356.000000   19215.000000       2.000000  \n",
       "75%     23504.000000   25839.000000       4.000000  \n",
       "max     33715.000000   26225.000000       4.000000  "
      ]
     },
     "execution_count": 13,
     "metadata": {},
     "output_type": "execute_result"
    }
   ],
   "source": [
    "df.describe()"
   ]
  },
  {
   "cell_type": "markdown",
   "metadata": {},
   "source": [
    "经过上一步后，我们对用户的基本数据有了直观的认识，接下来从宏观角度对数据进行统计。\n",
    "也就是要用到机器学习的算法了。"
   ]
  },
  {
   "cell_type": "markdown",
   "metadata": {},
   "source": [
    "# 二、用户行为分析、用户流失风险评估（用到机器学习算法）"
   ]
  },
  {
   "cell_type": "code",
   "execution_count": 14,
   "metadata": {},
   "outputs": [
    {
     "name": "stdout",
     "output_type": "stream",
     "text": [
      "Empty DataFrame\n",
      "Columns: []\n",
      "Index: []\n"
     ]
    }
   ],
   "source": [
    "#Detect null values\n",
    "null_columns=df.columns[df.isnull().any()]\n",
    "print(df[df.isnull().any(axis=1)][null_columns].head())\n"
   ]
  },
  {
   "cell_type": "markdown",
   "metadata": {},
   "source": [
    "## 1. 选择特征列"
   ]
  },
  {
   "cell_type": "code",
   "execution_count": 15,
   "metadata": {},
   "outputs": [
    {
     "name": "stdout",
     "output_type": "stream",
     "text": [
      "25\n"
     ]
    }
   ],
   "source": [
    "cols = df.columns.tolist()\n",
    "print(len(cols))\n",
    "\n",
    "\n",
    "# 去掉 UserId（用户编号） 和 MemberState（用户状态） 属性列\n",
    "df = df[[\n",
    "# 'UserId',\n",
    " 'ActivityCount',\n",
    " 'ActivityKeep',\n",
    " 'ActivityUsed',\n",
    " 'IntegralCurrentPoints',\n",
    " 'IntegralUsed',\n",
    " 'IngegralTotal',\n",
    " 'IntegralFrequency',\n",
    " 'IntegralAvgPointsDay',\n",
    " 'IntegralScanCount',\n",
    " 'IntegralScanTotal',\n",
    " 'IntegralScanFrequency',\n",
    " 'IntegralCheckinCount',\n",
    " 'IntegralCheckinFrequency',\n",
    " 'OrderCount',\n",
    " 'OrderFrequency',\n",
    " 'OrderItemCount',\n",
    " 'OrderAvgPrice',\n",
    " 'OrderProvinceCity',\n",
    " 'OrderAvgPoint',\n",
    " 'BabyCount',\n",
    " 'User_iCreator',\n",
    " 'ClientCode',\n",
    "#  'MemberState',\n",
    "    'LoyaltyIsAutoLost']\n",
    "]"
   ]
  },
  {
   "cell_type": "code",
   "execution_count": 16,
   "metadata": {
    "scrolled": true
   },
   "outputs": [
    {
     "data": {
      "text/plain": [
       "0    196059\n",
       "1     18317\n",
       "Name: LoyaltyIsAutoLost, dtype: int64"
      ]
     },
     "execution_count": 16,
     "metadata": {},
     "output_type": "execute_result"
    }
   ],
   "source": [
    "# 数据中本身含有是否自动流失的标记——LoyaltyIsAutoLost 字段，如果是正常流失标记为1，用户主动流失（非正常流失）标记为0.\n",
    "df.LoyaltyIsAutoLost.value_counts()"
   ]
  },
  {
   "cell_type": "markdown",
   "metadata": {},
   "source": [
    "经过统计发现，大多是用户都是非正常流失。"
   ]
  },
  {
   "cell_type": "markdown",
   "metadata": {},
   "source": [
    "Ps：正常流失标记为1，主动流失标记为0."
   ]
  },
  {
   "cell_type": "markdown",
   "metadata": {},
   "source": [
    "## 2. 处理数据不平衡"
   ]
  },
  {
   "cell_type": "markdown",
   "metadata": {},
   "source": [
    "由于数据中自然流失和用户主动流失样本数差异很大，所以需要平衡样本。"
   ]
  },
  {
   "cell_type": "code",
   "execution_count": 17,
   "metadata": {},
   "outputs": [],
   "source": [
    "df_majority = df[df.LoyaltyIsAutoLost==0]\n",
    "df_minority = df[df.LoyaltyIsAutoLost==1]\n",
    " \n",
    "df_majority_downsampled = resample(df_majority, \n",
    "                                 replace=False, \n",
    "                                 n_samples=20000,\n",
    "                                 random_state=123)\n",
    " \n",
    "df = pd.concat([df_majority_downsampled, df_minority])\n",
    " "
   ]
  },
  {
   "cell_type": "code",
   "execution_count": 18,
   "metadata": {
    "scrolled": true
   },
   "outputs": [
    {
     "data": {
      "text/plain": [
       "0    20000\n",
       "1    18317\n",
       "Name: LoyaltyIsAutoLost, dtype: int64"
      ]
     },
     "execution_count": 18,
     "metadata": {},
     "output_type": "execute_result"
    }
   ],
   "source": [
    "df.LoyaltyIsAutoLost.value_counts()"
   ]
  },
  {
   "cell_type": "markdown",
   "metadata": {},
   "source": [
    "## 3. 构建模型及训练"
   ]
  },
  {
   "cell_type": "code",
   "execution_count": 19,
   "metadata": {},
   "outputs": [
    {
     "name": "stdout",
     "output_type": "stream",
     "text": [
      "The independent features set: \n",
      "[[0.00000000e+00 0.00000000e+00 0.00000000e+00 0.00000000e+00\n",
      "  5.76000000e+02 5.76000000e+02 0.00000000e+00 5.76000000e+02\n",
      "  2.00000000e+00 5.76000000e+02 0.00000000e+00 0.00000000e+00\n",
      "  0.00000000e+00 0.00000000e+00 0.00000000e+00 0.00000000e+00\n",
      "  0.00000000e+00 1.00000000e+00 0.00000000e+00 1.00000000e+00\n",
      "  1.47370000e+04 1.79930000e+04]\n",
      " [1.00000000e+00 1.95000000e+02 1.00000000e+00 9.00000000e+01\n",
      "  2.78000000e+02 3.68000000e+02 0.00000000e+00 1.15000000e+01\n",
      "  1.00000000e+00 2.78000000e+02 0.00000000e+00 9.00000000e+00\n",
      "  3.44400001e+00 1.00000000e+00 0.00000000e+00 1.00000000e+00\n",
      "  0.00000000e+00 9.10000000e+01 2.78000000e+02 1.00000000e+00\n",
      "  2.35040000e+04 2.58390000e+04]]\n",
      "The dependent variable: \n",
      "[0 0]\n"
     ]
    }
   ],
   "source": [
    "#Splitting the data into independent and dependent variables\n",
    "X = df.iloc[:,0:len(df.columns.tolist())-1].values\n",
    "y = df.iloc[:,len(df.columns.tolist())-1].values\n",
    "print('The independent features set: ')\n",
    "print(X[:2,:])\n",
    "print('The dependent variable: ')\n",
    "print(y[:2])"
   ]
  },
  {
   "cell_type": "markdown",
   "metadata": {},
   "source": [
    "### 3.1 生成训练集和测试集"
   ]
  },
  {
   "cell_type": "code",
   "execution_count": 20,
   "metadata": {},
   "outputs": [
    {
     "data": {
      "text/plain": [
       "array([[0.0000e+00, 0.0000e+00, 0.0000e+00, ..., 1.0000e+00, 1.0750e+03,\n",
       "        3.0070e+03],\n",
       "       [0.0000e+00, 0.0000e+00, 0.0000e+00, ..., 0.0000e+00, 4.0000e+00,\n",
       "        9.5720e+03],\n",
       "       [0.0000e+00, 0.0000e+00, 0.0000e+00, ..., 0.0000e+00, 4.0000e+00,\n",
       "        2.2345e+04],\n",
       "       ...,\n",
       "       [0.0000e+00, 0.0000e+00, 0.0000e+00, ..., 2.0000e+00, 1.0423e+04,\n",
       "        1.2063e+04],\n",
       "       [0.0000e+00, 0.0000e+00, 0.0000e+00, ..., 1.0000e+00, 1.6077e+04,\n",
       "        1.6335e+04],\n",
       "       [1.0000e+00, 0.0000e+00, 1.0000e+00, ..., 1.0000e+00, 2.3504e+04,\n",
       "        2.5839e+04]])"
      ]
     },
     "execution_count": 20,
     "metadata": {},
     "output_type": "execute_result"
    }
   ],
   "source": [
    "# 使用 scikit包中的 train_test_split 方法，拆分为训练集和测试集。其中测试集的比例为30%，拆分随机种子为21\n",
    "# train_test_split(特征矩阵, 标签,百分之多少做测试集 ,拆分随机种子)\n",
    "\n",
    "X_train, X_test, y_train, y_test = train_test_split(X, y, test_size = 0.30, random_state = 21)\n",
    "X_train"
   ]
  },
  {
   "cell_type": "markdown",
   "metadata": {},
   "source": [
    "将训练集和测试集中的 输入X 进行标准化处理。"
   ]
  },
  {
   "cell_type": "code",
   "execution_count": 21,
   "metadata": {},
   "outputs": [],
   "source": [
    "scaler = StandardScaler()\n",
    "X_train = scaler.fit_transform(X_train)\n",
    "X_test = scaler.transform(X_test)"
   ]
  },
  {
   "cell_type": "code",
   "execution_count": 22,
   "metadata": {
    "scrolled": true
   },
   "outputs": [
    {
     "data": {
      "text/plain": [
       "array([[-0.51908849, -0.09550659, -0.42788847, ...,  0.15546644,\n",
       "        -1.08463072, -1.74719668],\n",
       "       [-0.51908849, -0.09550659, -0.42788847, ..., -2.48028915,\n",
       "        -1.18988148, -0.901852  ],\n",
       "       [-0.51908849, -0.09550659, -0.42788847, ..., -2.48028915,\n",
       "        -1.18988148,  0.74286812],\n",
       "       ...,\n",
       "       [-0.51908849, -0.09550659, -0.42788847, ...,  2.79122203,\n",
       "        -0.16597135, -0.58109745],\n",
       "       [-0.51908849, -0.09550659, -0.42788847, ...,  0.15546644,\n",
       "         0.38966623, -0.03101178],\n",
       "       [ 1.92645382, -0.09550659,  1.80227023, ...,  0.15546644,\n",
       "         1.11954247,  1.19277433]])"
      ]
     },
     "execution_count": 22,
     "metadata": {},
     "output_type": "execute_result"
    }
   ],
   "source": [
    "X_train"
   ]
  },
  {
   "cell_type": "markdown",
   "metadata": {},
   "source": [
    "### 3.2 调用 Scikit-learn 组件中的随机森林分类器 RandomForestClassifier 构建模型"
   ]
  },
  {
   "cell_type": "code",
   "execution_count": 23,
   "metadata": {},
   "outputs": [
    {
     "data": {
      "text/plain": [
       "RandomForestClassifier(bootstrap=True, ccp_alpha=0.0, class_weight=None,\n",
       "                       criterion='entropy', max_depth=8, max_features='auto',\n",
       "                       max_leaf_nodes=None, max_samples=None,\n",
       "                       min_impurity_decrease=0.0, min_impurity_split=None,\n",
       "                       min_samples_leaf=1, min_samples_split=2,\n",
       "                       min_weight_fraction_leaf=0.0, n_estimators=10,\n",
       "                       n_jobs=None, oob_score=False, random_state=42, verbose=0,\n",
       "                       warm_start=False)"
      ]
     },
     "execution_count": 23,
     "metadata": {},
     "output_type": "execute_result"
    }
   ],
   "source": [
    "# Fitting Random Forest Classification to the Training set\n",
    "# 实例化，这些参数与决策树的参数差不多\n",
    "classifier = RandomForestClassifier(n_estimators = 10, max_depth = 8, criterion = 'entropy',random_state = 42)\n",
    "# 把训练集导进去训练\n",
    "classifier.fit(X_train, y_train)"
   ]
  },
  {
   "cell_type": "markdown",
   "metadata": {},
   "source": [
    "Ps：\n",
    "RandomForestClassifier 的参数\n",
    "n_estimators：随机森林中树的个数\n",
    "max_depth：树的最大深度\n",
    "criterion：衡量不纯度的指标，默认为基尼系数，gini，还可以是信息熵\n",
    "random_state：\n",
    "classifier.fit："
   ]
  },
  {
   "cell_type": "markdown",
   "metadata": {},
   "source": [
    "<h2>4. 模型验证及检测</h2>"
   ]
  },
  {
   "cell_type": "markdown",
   "metadata": {},
   "source": [
    "### 4.1 混淆矩阵"
   ]
  },
  {
   "cell_type": "code",
   "execution_count": 24,
   "metadata": {
    "scrolled": true
   },
   "outputs": [
    {
     "name": "stdout",
     "output_type": "stream",
     "text": [
      "Predicted Class     0     1\n",
      "Actual Class               \n",
      "0                5694   303\n",
      "1                  29  5470\n"
     ]
    }
   ],
   "source": [
    "# Predicting the Test set results\n",
    "# 使用测试集 X_test 对性能进行验证，并将结果以混淆矩阵的形式给出。\n",
    "y_pred = classifier.predict(X_test)\n",
    "print(pd.crosstab(y_test, y_pred, rownames=['Actual Class'], colnames=['Predicted Class']))"
   ]
  },
  {
   "cell_type": "markdown",
   "metadata": {},
   "source": [
    "### 4.2 分数评测"
   ]
  },
  {
   "cell_type": "code",
   "execution_count": 25,
   "metadata": {},
   "outputs": [
    {
     "data": {
      "text/plain": [
       "0.9711203897007655"
      ]
     },
     "execution_count": 25,
     "metadata": {},
     "output_type": "execute_result"
    }
   ],
   "source": [
    "# 准确率\n",
    "accuracy_score(y_test, y_pred)"
   ]
  },
  {
   "cell_type": "code",
   "execution_count": 26,
   "metadata": {},
   "outputs": [
    {
     "data": {
      "text/plain": [
       "0.99472631387525"
      ]
     },
     "execution_count": 26,
     "metadata": {},
     "output_type": "execute_result"
    }
   ],
   "source": [
    "# 召回率\n",
    "recall_score(y_test, y_pred)"
   ]
  },
  {
   "cell_type": "markdown",
   "metadata": {},
   "source": [
    "### 4.3 分析模型中的关键因素有哪些"
   ]
  },
  {
   "cell_type": "code",
   "execution_count": 27,
   "metadata": {
    "scrolled": false
   },
   "outputs": [
    {
     "name": "stdout",
     "output_type": "stream",
     "text": [
      "Feature importance ranking:\n",
      "1. feature 7 (0.261951)\n",
      "2. feature 4 (0.195509)\n",
      "3. feature 17 (0.066556)\n",
      "4. feature 5 (0.063954)\n",
      "5. feature 8 (0.061621)\n",
      "6. feature 10 (0.050574)\n",
      "7. feature 20 (0.039143)\n",
      "8. feature 3 (0.038785)\n",
      "9. feature 9 (0.036651)\n",
      "10. feature 21 (0.029760)\n",
      "11. feature 19 (0.028875)\n",
      "12. feature 13 (0.026523)\n",
      "13. feature 2 (0.026009)\n",
      "14. feature 0 (0.018834)\n",
      "15. feature 1 (0.015563)\n",
      "16. feature 18 (0.012770)\n",
      "17. feature 11 (0.009848)\n",
      "18. feature 6 (0.008766)\n",
      "19. feature 15 (0.004681)\n",
      "20. feature 12 (0.002041)\n",
      "21. feature 14 (0.001587)\n",
      "22. feature 16 (0.000000)\n"
     ]
    },
    {
     "data": {
      "image/png": "[encoded data removed]",
      "text/plain": [
       "<Figure size 432x288 with 1 Axes>"
      ]
     },
     "metadata": {
      "needs_background": "light"
     },
     "output_type": "display_data"
    }
   ],
   "source": [
    "importances = classifier.feature_importances_\n",
    "std = np.std([tree.feature_importances_ for tree in classifier.estimators_], axis=0)\n",
    "indices = np.argsort(importances)[::-1]\n",
    "\n",
    "print(\"Feature importance ranking:\")\n",
    "\n",
    "for f in range(X.shape[1]):\n",
    "    print(\"%d. feature %d (%f)\" % (f + 1, indices[f], importances[indices[f]]))\n",
    "\n",
    "plt.figure()\n",
    "plt.title(\"Feature importances\")\n",
    "plt.bar(range(X.shape[1]), importances[indices],color=\"r\", yerr=std[indices], align=\"center\")\n",
    "plt.xticks(range(X.shape[1]), indices)\n",
    "plt.xlim([-1, X.shape[1]])\n",
    "plt.show()\n"
   ]
  },
  {
   "cell_type": "code",
   "execution_count": 28,
   "metadata": {
    "scrolled": false
   },
   "outputs": [
    {
     "data": {
      "text/plain": [
       "[('IntegralAvgPointsDay', 0.2619508003579977),\n",
       " ('IntegralUsed', 0.1955086076418798),\n",
       " ('OrderProvinceCity', 0.06655589111473768),\n",
       " ('IngegralTotal', 0.0639541263173892),\n",
       " ('IntegralScanCount', 0.0616210852817881),\n",
       " ('IntegralScanFrequency', 0.05057391482971949),\n",
       " ('User_iCreator', 0.0391431956625935),\n",
       " ('IntegralCurrentPoints', 0.03878533158312189),\n",
       " ('IntegralScanTotal', 0.03665103602296919),\n",
       " ('ClientCode', 0.029760421140781784),\n",
       " ('BabyCount', 0.02887450486853515),\n",
       " ('OrderCount', 0.026522972870029353),\n",
       " ('ActivityUsed', 0.02600935610823992),\n",
       " ('ActivityCount', 0.01883351609648937),\n",
       " ('ActivityKeep', 0.015562696480693547),\n",
       " ('OrderAvgPoint', 0.012769791685092291),\n",
       " ('IntegralCheckinCount', 0.00984763787410308),\n",
       " ('IntegralFrequency', 0.008766353281737662),\n",
       " ('OrderItemCount', 0.004680541595420443),\n",
       " ('IntegralCheckinFrequency', 0.0020412685205906077),\n",
       " ('OrderFrequency', 0.0015869506660900882),\n",
       " ('OrderAvgPrice', 0.0)]"
      ]
     },
     "execution_count": 28,
     "metadata": {},
     "output_type": "execute_result"
    }
   ],
   "source": [
    "result_importances = list(zip(df.columns[0:len(df.columns.tolist())-1], classifier.feature_importances_))\n",
    "result_importances.sort(key=lambda x: x[1], reverse=True)\n",
    "result_importances"
   ]
  },
  {
   "cell_type": "markdown",
   "metadata": {},
   "source": [
    "最重要的特征：平均每天保有的积分值，使用积分值，所在地区、总积分值等\n",
    "\n",
    "平均每天保有的积分值：\n",
    "自然流失：8.12\n",
    "主动流失：372.16\n",
    "\n",
    "使用积分值:\n",
    "自然流失：4640.77\n",
    "主动流失：1091.17\n",
    "\n",
    "\n",
    "自然流失前9城市：\n",
    "山东省-临沂市\t113\n",
    "安徽省-宣城市\t97\n",
    "江西省-吉安市\t83\n",
    "四川省-泸州市\t80\n",
    "安徽省-六安市\t78\n",
    "山东省-菏泽市\t73\n",
    "浙江省-台州市\t67\n",
    "浙江省-嘉兴市\t63\n",
    "重庆市-县\t62\n",
    "\n",
    "主动流失前9城市：\n",
    "山东省-临沂市\t6075\n",
    "江西省-吉安市\t4904\n",
    "江西省-赣州市\t4837\n",
    "山东省-枣庄市\t3703\n",
    "浙江省-嘉兴市\t3620\n",
    "浙江省-温州市\t3498\n",
    "山东省-济宁市\t3387\n",
    "重庆市-县\t3171\n",
    "\n",
    "扫码次数：\n",
    "自然流失：23.83\n",
    "主动流失：6.89"
   ]
  },
  {
   "cell_type": "code",
   "execution_count": 29,
   "metadata": {},
   "outputs": [
    {
     "data": {
      "text/plain": [
       "['randomforestmodel.pkl']"
      ]
     },
     "execution_count": 29,
     "metadata": {},
     "output_type": "execute_result"
    }
   ],
   "source": [
    "# 将训练好的模型保存为文件\n",
    "joblib.dump(classifier, 'randomforestmodel.pkl') "
   ]
  },
  {
   "cell_type": "markdown",
   "metadata": {},
   "source": [
    "<h2>5. 对比其它模型</h2>"
   ]
  },
  {
   "cell_type": "code",
   "execution_count": 30,
   "metadata": {},
   "outputs": [
    {
     "name": "stderr",
     "output_type": "stream",
     "text": [
      "D:\\Users\\anaconda3\\lib\\site-packages\\sklearn\\linear_model\\_logistic.py:940: ConvergenceWarning: lbfgs failed to converge (status=1):\n",
      "STOP: TOTAL NO. of ITERATIONS REACHED LIMIT.\n",
      "\n",
      "Increase the number of iterations (max_iter) or scale the data as shown in:\n",
      "    https://scikit-learn.org/stable/modules/preprocessing.html\n",
      "Please also refer to the documentation for alternative solver options:\n",
      "    https://scikit-learn.org/stable/modules/linear_model.html#logistic-regression\n",
      "  extra_warning_msg=_LOGISTIC_SOLVER_CONVERGENCE_MSG)\n"
     ]
    },
    {
     "data": {
      "text/plain": [
       "LogisticRegression(C=1.0, class_weight=None, dual=False, fit_intercept=True,\n",
       "                   intercept_scaling=1, l1_ratio=None, max_iter=100,\n",
       "                   multi_class='auto', n_jobs=None, penalty='l2',\n",
       "                   random_state=None, solver='lbfgs', tol=0.0001, verbose=0,\n",
       "                   warm_start=False)"
      ]
     },
     "execution_count": 30,
     "metadata": {},
     "output_type": "execute_result"
    }
   ],
   "source": [
    "from sklearn import model_selection\n",
    "from sklearn.linear_model import LogisticRegression\n",
    "model = LogisticRegression()\n",
    "model.fit(X_train, y_train)"
   ]
  },
  {
   "cell_type": "code",
   "execution_count": 31,
   "metadata": {},
   "outputs": [
    {
     "data": {
      "text/plain": [
       "0.9233646485734168"
      ]
     },
     "execution_count": 31,
     "metadata": {},
     "output_type": "execute_result"
    }
   ],
   "source": [
    "y_pred = model.predict(X_test)\n",
    "accuracy_score(y_test, y_pred)"
   ]
  },
  {
   "cell_type": "markdown",
   "metadata": {},
   "source": [
    "# 补充：配置运行环境"
   ]
  },
  {
   "cell_type": "code",
   "execution_count": 32,
   "metadata": {
    "scrolled": true
   },
   "outputs": [
    {
     "name": "stdout",
     "output_type": "stream",
     "text": [
      "Requirement already satisfied: pymysql in d:\\users\\anaconda3\\lib\\site-packages (0.10.1)\n"
     ]
    }
   ],
   "source": [
    "!pip install pymysql"
   ]
  },
  {
   "cell_type": "code",
   "execution_count": 33,
   "metadata": {
    "scrolled": true
   },
   "outputs": [
    {
     "name": "stdout",
     "output_type": "stream",
     "text": [
      "Requirement already satisfied: joblib in d:\\users\\anaconda3\\lib\\site-packages (0.14.1)\n",
      "Note: you may need to restart the kernel to use updated packages.\n"
     ]
    }
   ],
   "source": [
    "pip install joblib"
   ]
  }
 ],
 "metadata": {
  "kernelspec": {
   "display_name": "Python 3",
   "language": "python",
   "name": "python3"
  },
  "language_info": {
   "codemirror_mode": {
    "name": "ipython",
    "version": 3
   },
   "file_extension": ".py",
   "mimetype": "text/x-python",
   "name": "python",
   "nbconvert_exporter": "python",
   "pygments_lexer": "ipython3",
   "version": "3.7.6"
  }
 },
 "nbformat": 4,
 "nbformat_minor": 2
}
